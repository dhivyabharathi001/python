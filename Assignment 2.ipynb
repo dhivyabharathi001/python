{
 "cells": [
  {
   "cell_type": "markdown",
   "metadata": {},
   "source": [
    "ASSIGNMENT 2"
   ]
  },
  {
   "cell_type": "markdown",
   "metadata": {},
   "source": [
    "TASK 1"
   ]
  },
  {
   "cell_type": "markdown",
   "metadata": {},
   "source": [
    "1.2. \n",
    "Write a Python program to implement your own myfilter() function which works exactly like\n",
    "Python's built-in function filter()"
   ]
  },
  {
   "cell_type": "code",
   "execution_count": 1,
   "metadata": {},
   "outputs": [
    {
     "data": {
      "text/plain": [
       "[2]"
      ]
     },
     "execution_count": 1,
     "metadata": {},
     "output_type": "execute_result"
    }
   ],
   "source": [
    "def myfilter(remove,List):\n",
    "    return [x for x in List if x!=remove]\n",
    "myfilter(1,[1,2,1])"
   ]
  },
  {
   "cell_type": "markdown",
   "metadata": {},
   "source": [
    "2.\n",
    "Implement List comprehensions to produce the following lists.\n",
    "Write List comprehensions to produce the following Lists                \n",
    "['A', 'C', 'A', 'D', 'G', 'I', ’L’, ‘ D’]    \n",
    "['x', 'xx', 'xxx', 'xxxx', 'y', 'yy', 'yyy', 'yyyy', 'z', 'zz', 'zzz', 'zzzz']  \n",
    "['x', 'y', 'z', 'xx', 'yy', 'zz', 'xx', 'yy', 'zz', 'xxxx', 'yyyy', 'zzzz']              \n",
    "[[2], [3], [4], [3], [4], [5], [4], [5], [6]]                  \n",
    "[[2, 3, 4, 5], [3, 4, 5, 6], [4, 5, 6, 7], [5, 6, 7, 8]]                   \n",
    "[(1, 1), (2, 1), (3, 1), (1, 2), (2, 2), (3, 2), (1, 3), (2, 3), (3, 3)] "
   ]
  },
  {
   "cell_type": "code",
   "execution_count": 5,
   "metadata": {},
   "outputs": [
    {
     "data": {
      "text/plain": [
       "['a', 'c', 'a', 'd', 'g', 'i', 'l', 'd']"
      ]
     },
     "execution_count": 5,
     "metadata": {},
     "output_type": "execute_result"
    }
   ],
   "source": [
    "a=['A', 'C', 'A', 'D', 'G', 'I', 'L', 'D']\n",
    "[i.lower()for i in a]"
   ]
  },
  {
   "cell_type": "code",
   "execution_count": 7,
   "metadata": {},
   "outputs": [
    {
     "data": {
      "text/plain": [
       "[['x',\n",
       "  'xx',\n",
       "  'xxx',\n",
       "  'xxxx',\n",
       "  'y',\n",
       "  'yy',\n",
       "  'yyy',\n",
       "  'yyyy',\n",
       "  'z',\n",
       "  'zz',\n",
       "  'zzz',\n",
       "  'zzzz'],\n",
       " ['x',\n",
       "  'xx',\n",
       "  'xxx',\n",
       "  'xxxx',\n",
       "  'y',\n",
       "  'yy',\n",
       "  'yyy',\n",
       "  'yyyy',\n",
       "  'z',\n",
       "  'zz',\n",
       "  'zzz',\n",
       "  'zzzz'],\n",
       " ['x',\n",
       "  'xx',\n",
       "  'xxx',\n",
       "  'xxxx',\n",
       "  'y',\n",
       "  'yy',\n",
       "  'yyy',\n",
       "  'yyyy',\n",
       "  'z',\n",
       "  'zz',\n",
       "  'zzz',\n",
       "  'zzzz'],\n",
       " ['x',\n",
       "  'xx',\n",
       "  'xxx',\n",
       "  'xxxx',\n",
       "  'y',\n",
       "  'yy',\n",
       "  'yyy',\n",
       "  'yyyy',\n",
       "  'z',\n",
       "  'zz',\n",
       "  'zzz',\n",
       "  'zzzz'],\n",
       " ['x',\n",
       "  'xx',\n",
       "  'xxx',\n",
       "  'xxxx',\n",
       "  'y',\n",
       "  'yy',\n",
       "  'yyy',\n",
       "  'yyyy',\n",
       "  'z',\n",
       "  'zz',\n",
       "  'zzz',\n",
       "  'zzzz'],\n",
       " ['x',\n",
       "  'xx',\n",
       "  'xxx',\n",
       "  'xxxx',\n",
       "  'y',\n",
       "  'yy',\n",
       "  'yyy',\n",
       "  'yyyy',\n",
       "  'z',\n",
       "  'zz',\n",
       "  'zzz',\n",
       "  'zzzz'],\n",
       " ['x',\n",
       "  'xx',\n",
       "  'xxx',\n",
       "  'xxxx',\n",
       "  'y',\n",
       "  'yy',\n",
       "  'yyy',\n",
       "  'yyyy',\n",
       "  'z',\n",
       "  'zz',\n",
       "  'zzz',\n",
       "  'zzzz'],\n",
       " ['x',\n",
       "  'xx',\n",
       "  'xxx',\n",
       "  'xxxx',\n",
       "  'y',\n",
       "  'yy',\n",
       "  'yyy',\n",
       "  'yyyy',\n",
       "  'z',\n",
       "  'zz',\n",
       "  'zzz',\n",
       "  'zzzz'],\n",
       " ['x',\n",
       "  'xx',\n",
       "  'xxx',\n",
       "  'xxxx',\n",
       "  'y',\n",
       "  'yy',\n",
       "  'yyy',\n",
       "  'yyyy',\n",
       "  'z',\n",
       "  'zz',\n",
       "  'zzz',\n",
       "  'zzzz'],\n",
       " ['x',\n",
       "  'xx',\n",
       "  'xxx',\n",
       "  'xxxx',\n",
       "  'y',\n",
       "  'yy',\n",
       "  'yyy',\n",
       "  'yyyy',\n",
       "  'z',\n",
       "  'zz',\n",
       "  'zzz',\n",
       "  'zzzz'],\n",
       " ['x',\n",
       "  'xx',\n",
       "  'xxx',\n",
       "  'xxxx',\n",
       "  'y',\n",
       "  'yy',\n",
       "  'yyy',\n",
       "  'yyyy',\n",
       "  'z',\n",
       "  'zz',\n",
       "  'zzz',\n",
       "  'zzzz'],\n",
       " ['x',\n",
       "  'xx',\n",
       "  'xxx',\n",
       "  'xxxx',\n",
       "  'y',\n",
       "  'yy',\n",
       "  'yyy',\n",
       "  'yyyy',\n",
       "  'z',\n",
       "  'zz',\n",
       "  'zzz',\n",
       "  'zzzz']]"
      ]
     },
     "execution_count": 7,
     "metadata": {},
     "output_type": "execute_result"
    }
   ],
   "source": [
    "word=['x', 'xx', 'xxx', 'xxxx', 'y', 'yy', 'yyy', 'yyyy', 'z', 'zz', 'zzz', 'zzzz']\n",
    "[word.copy() for i in word]"
   ]
  },
  {
   "cell_type": "code",
   "execution_count": 8,
   "metadata": {},
   "outputs": [
    {
     "data": {
      "text/plain": [
       "['X', 'Y', 'Z', 'XX', 'YY', 'ZZ', 'XX', 'YY', 'ZZ', 'XXXX', 'YYYY', 'ZZZZ']"
      ]
     },
     "execution_count": 8,
     "metadata": {},
     "output_type": "execute_result"
    }
   ],
   "source": [
    "s=['x', 'y', 'z', 'xx', 'yy', 'zz', 'xx', 'yy', 'zz', 'xxxx', 'yyyy', 'zzzz']\n",
    "[i.upper()for i in s]"
   ]
  },
  {
   "cell_type": "code",
   "execution_count": 9,
   "metadata": {},
   "outputs": [
    {
     "data": {
      "text/plain": [
       "[1.0, 1.3333333333333333, 1.6666666666666667, 2.0]"
      ]
     },
     "execution_count": 9,
     "metadata": {},
     "output_type": "execute_result"
    }
   ],
   "source": [
    "z=[[2, 3, 4, 5], [3, 4, 5, 6], [4, 5, 6, 7], [5, 6, 7, 8]]\n",
    "z1=[row[1]/3 for row in z]\n",
    "z1"
   ]
  },
  {
   "cell_type": "code",
   "execution_count": 10,
   "metadata": {},
   "outputs": [
    {
     "data": {
      "text/plain": [
       "[[2, 2, 2],\n",
       " [3, 3, 3],\n",
       " [4, 4, 4],\n",
       " [3, 3, 3],\n",
       " [4, 4, 4],\n",
       " [5, 5, 5],\n",
       " [4, 4, 4],\n",
       " [5, 5, 5],\n",
       " [6, 6, 6]]"
      ]
     },
     "execution_count": 10,
     "metadata": {},
     "output_type": "execute_result"
    }
   ],
   "source": [
    "b=[[2], [3], [4], [3], [4], [5], [4], [5], [6]]\n",
    "b1=[row*3 for row in b]\n",
    "b1"
   ]
  },
  {
   "cell_type": "code",
   "execution_count": 12,
   "metadata": {},
   "outputs": [
    {
     "data": {
      "text/plain": [
       "[(1, 1, 1, 1),\n",
       " (2, 1, 2, 1),\n",
       " (3, 1, 3, 1),\n",
       " (1, 2, 1, 2),\n",
       " (2, 2, 2, 2),\n",
       " (3, 2, 3, 2),\n",
       " (1, 3, 1, 3),\n",
       " (2, 3, 2, 3),\n",
       " (3, 3, 3, 3)]"
      ]
     },
     "execution_count": 12,
     "metadata": {},
     "output_type": "execute_result"
    }
   ],
   "source": [
    "c=[(1, 1), (2, 1), (3, 1), (1, 2), (2, 2), (3, 2), (1, 3), (2, 3), (3, 3)]\n",
    "c1=[row*2 for row in c]\n",
    "c1"
   ]
  },
  {
   "cell_type": "markdown",
   "metadata": {},
   "source": [
    "3. \n",
    "Implement a function longestWord() that takes a list of words and returns the longest one."
   ]
  },
  {
   "cell_type": "code",
   "execution_count": 5,
   "metadata": {},
   "outputs": [
    {
     "name": "stdout",
     "output_type": "stream",
     "text": [
      "Enter the words:aaa,bhac,dislk\n",
      "['aaa', 'bhac', 'dislk']\n",
      "dislk\n"
     ]
    }
   ],
   "source": [
    "x=input('Enter the words:')\n",
    "def longest_word(x):\n",
    "    y=x.split(',')\n",
    "    print(y)\n",
    "    z=max(y)\n",
    "    print(z)\n",
    "longest_word(x)"
   ]
  },
  {
   "cell_type": "markdown",
   "metadata": {},
   "source": [
    "TASK 2:"
   ]
  },
  {
   "cell_type": "markdown",
   "metadata": {},
   "source": [
    "1.1\n",
    "Write a Python Program(with class concepts) to find the area of the triangle using the below\n",
    "formula.\n",
    "area = (s*(s-a)*(s-b)*(s-c)) ** 0.5\n",
    "Function to take the length of the sides of triangle from user should be defined in the parent\n",
    "class and function to calculate the area should be defined in subclass."
   ]
  },
  {
   "cell_type": "code",
   "execution_count": 4,
   "metadata": {},
   "outputs": [
    {
     "name": "stdout",
     "output_type": "stream",
     "text": [
      "Area: 1.7777777777777781\n"
     ]
    }
   ],
   "source": [
    "class Triangle:\n",
    "    def __init__(self,a,b,c,s):\n",
    "        self.a=a\n",
    "        self.b=b\n",
    "        self.c=c\n",
    "        self.s=s\n",
    "    def area(self):\n",
    "        return((self.s*(self.s-self.a)*(self.s-self.b)*(self.s-self.c)) ** 0.5)\n",
    "a=4\n",
    "b=6\n",
    "c=6\n",
    "s=(a+b+c)/3\n",
    "t=Triangle(a,b,c,s)\n",
    "print(\"Area:\",t.area())"
   ]
  },
  {
   "cell_type": "markdown",
   "metadata": {},
   "source": [
    "1.2 \n",
    "Write a function filter_long_words() that takes a list of words and an integer n and returns the list\n",
    "of words that are longer than n."
   ]
  },
  {
   "cell_type": "code",
   "execution_count": 8,
   "metadata": {},
   "outputs": [
    {
     "name": "stdout",
     "output_type": "stream",
     "text": [
      "Enter the words:sd,fjb,fhjlj\n",
      "Enter the limit:2\n",
      "['fjb', 'fhjlj']\n"
     ]
    }
   ],
   "source": [
    "wrd=input('Enter the words:')\n",
    "lmt=int(input('Enter the limit:'))\n",
    "List=wrd.split(',')\n",
    "l=[]\n",
    "def large(wrd):\n",
    "    for i in List:\n",
    "        a=len(i)\n",
    "        if(a>lmt):\n",
    "            l.append(i)\n",
    "    print(l)\n",
    "large(wrd)"
   ]
  },
  {
   "cell_type": "markdown",
   "metadata": {},
   "source": [
    "2.1 \n",
    "Write a Python program using function concept that maps list of words into a list of integers\n",
    "representing the lengths of the corresponding words.\n",
    "Hint: If a list [ ab,cde,erty] is passed on to the python function output should come as [2,3,4]\n",
    "Here 2,3 and 4 are the lengths of the words in the list."
   ]
  },
  {
   "cell_type": "code",
   "execution_count": 9,
   "metadata": {},
   "outputs": [
    {
     "name": "stdout",
     "output_type": "stream",
     "text": [
      "[3, 3, 4]\n"
     ]
    }
   ],
   "source": [
    "list=['aab','ddd','eean']\n",
    "l=[]\n",
    "def num_words(list):\n",
    "    for i in list:\n",
    "        x=len(i)\n",
    "        l.append(x)\n",
    "    print(l)\n",
    "num_words(list)"
   ]
  },
  {
   "cell_type": "markdown",
   "metadata": {},
   "source": [
    "2.2\n",
    "Write a Python function which takes a character (i.e. a string of length 1) and returns True if it is\n",
    "a vowel, False otherwise."
   ]
  },
  {
   "cell_type": "code",
   "execution_count": 10,
   "metadata": {},
   "outputs": [
    {
     "name": "stdout",
     "output_type": "stream",
     "text": [
      "Enter the character:w\n",
      "False\n"
     ]
    }
   ],
   "source": [
    "ch=input('Enter the character:')\n",
    "if(ch=='a' or ch=='e' or ch=='i' or ch=='o' or ch=='u' or ch=='A' or ch=='E' or ch=='I' or ch=='O' or ch=='U'):\n",
    "    print('True')\n",
    "else:\n",
    "    print('False')"
   ]
  }
 ],
 "metadata": {
  "kernelspec": {
   "display_name": "Python 3",
   "language": "python",
   "name": "python3"
  },
  "language_info": {
   "codemirror_mode": {
    "name": "ipython",
    "version": 3
   },
   "file_extension": ".py",
   "mimetype": "text/x-python",
   "name": "python",
   "nbconvert_exporter": "python",
   "pygments_lexer": "ipython3",
   "version": "3.7.3"
  }
 },
 "nbformat": 4,
 "nbformat_minor": 2
}
